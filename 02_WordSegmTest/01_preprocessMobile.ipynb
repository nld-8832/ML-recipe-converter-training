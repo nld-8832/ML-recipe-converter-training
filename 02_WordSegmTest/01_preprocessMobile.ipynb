{
 "cells": [
  {
   "cell_type": "code",
   "execution_count": 9,
   "metadata": {},
   "outputs": [],
   "source": [
    "from skimage.filters import threshold_local\n",
    "from cv2 import cv2\n",
    "import os\n",
    "import numpy as np\n",
    "import argparse\n",
    "import matplotlib.pyplot as plt"
   ]
  },
  {
   "cell_type": "code",
   "execution_count": 10,
   "metadata": {
    "tags": []
   },
   "outputs": [],
   "source": [
    "imgFiles = os.listdir('D:\\\\UET\\\\prepare_Dataset\\\\testDataset\\\\input_test_3')"
   ]
  },
  {
   "cell_type": "code",
   "execution_count": 13,
   "metadata": {
    "tags": []
   },
   "outputs": [
    {
     "output_type": "display_data",
     "data": {
      "text/plain": "<Figure size 432x288 with 1 Axes>",
      "image/png": "[encoded data removed]"
     },
     "metadata": {
      "needs_background": "light"
     }
    }
   ],
   "source": [
    "for (i, f) in enumerate(imgFiles):\n",
    "    img = cv2.imread('D:\\\\UET\\\\prepare_Dataset\\\\testDataset\\\\input_test_3\\\\%s'%f)\n",
    "    cv2.imshow('meh', img)\n",
    "\n",
    "    # convert the image to grayscale, blur it, and find edges\n",
    "    # in the image\n",
    "    gray = cv2.cvtColor(img, cv2.COLOR_BGR2GRAY)\n",
    "    gray = cv2.GaussianBlur(gray, (5, 5), 0)\n",
    "    edged = cv2.Canny(gray, 100, 200)\n",
    "\n",
    "    #plt.imshow(edged, cmap='gray')\n",
    "\n",
    "    T = threshold_local(edged, 11, offset = 10, method = \"gaussian\")\n",
    "    edged = (edged > T).astype(\"uint8\") * 255\n",
    "    plt.imshow(edged, cmap='gray')\n",
    "\n",
    "    # save image\n",
    "    cv2.imwrite(\"D:\\\\UET\\\\prepare_Dataset\\\\testDataset\\\\output_test_3\\\\%s\"%f, edged)"
   ]
  },
  {
   "cell_type": "code",
   "execution_count": null,
   "metadata": {},
   "outputs": [],
   "source": []
  }
 ],
 "metadata": {
  "kernelspec": {
   "display_name": "Python 3",
   "language": "python",
   "name": "python3"
  },
  "language_info": {
   "codemirror_mode": {
    "name": "ipython",
    "version": 3
   },
   "file_extension": ".py",
   "mimetype": "text/x-python",
   "name": "python",
   "nbconvert_exporter": "python",
   "pygments_lexer": "ipython3",
   "version": "3.8.3-final"
  }
 },
 "nbformat": 4,
 "nbformat_minor": 2
}